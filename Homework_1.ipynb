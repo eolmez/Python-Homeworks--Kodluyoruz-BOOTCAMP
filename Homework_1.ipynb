{
  "nbformat": 4,
  "nbformat_minor": 0,
  "metadata": {
    "colab": {
      "name": "Homework-1.ipynb",
      "version": "0.3.2",
      "provenance": [],
      "collapsed_sections": [],
      "include_colab_link": true
    },
    "kernelspec": {
      "name": "python3",
      "display_name": "Python 3"
    }
  },
  "cells": [
    {
      "cell_type": "markdown",
      "metadata": {
        "id": "view-in-github",
        "colab_type": "text"
      },
      "source": [
        "<a href=\"https://colab.research.google.com/github/eolmez91/Python-Homeworks/blob/master/Homework_1.ipynb\" target=\"_parent\"><img src=\"https://colab.research.google.com/assets/colab-badge.svg\" alt=\"Open In Colab\"/></a>"
      ]
    },
    {
      "cell_type": "code",
      "metadata": {
        "id": "smuJ9WQZOYqg",
        "colab_type": "code",
        "colab": {}
      },
      "source": [
        "#*Ödev 1*\n",
        "#\n",
        "#- İstiklal Marşımızımı tek bir stringe atayın.\n",
        "#- İstiklal Marşı'nı parse ederek bir Python dict yani sözlük oluşturun. Bu sözlükte key değerleri mısra sayısı, value değerleri \n",
        "#  ise bir marşın o mısrası olsun.\n",
        "#- Kullanıcıdan girdi olarak mısra sayısını alan bir program yazın. Kullanıcı programı sonlandırana kadar bu program çalışsın. Programdan çıkmak için \"x\" tuşuna basması gerektiğini \n",
        "#  söyleyin. Sayı haricinde bir şey girerse \"Sayı giriniz.\" ya da İstikal Marşı'nda olmayan bir mısra sayısı girerse (örneğin 77) \"İstikal Marşımızda bu kadar mısra yok\" diye \n",
        "#  kullanıcıya bilgi döndürsün.\n",
        "#- Kullanıcıdan yapılan girdiye göre sözlükten okuyup o mısrayı ekrana yazdırın.\n",
        "#  Bazı kısıtlamalar var tabii ki.\n",
        "#\n",
        "#- İstiklal Marşı'nı tek bir string ile tanımlamanız ve sonrasında satırlara ya da mısralara o şekilde ayırmanız gerekiyor. Yani tanımlamayı mısra mısra yapmayın elle :) \n",
        "#  Zaten onun için programlama yapıyoruz.\n",
        "\n",
        "#- Son mısra 5 satırdan oluşuyor biliyorsunuz onu unutmayın :)\n",
        "\n",
        "\n",
        "istiklalMarch = \"\"\"Korkma, sönmez bu şafaklarda yüzen al sancak;\n",
        "Sönmeden yurdumun üstünde tüten en son ocak.\n",
        "O benim milletimin yıldızıdır, parlayacak;\n",
        "O benimdir, o benim milletimindir ancak.\n",
        "\n",
        "Çatma, kurban olayım, çehreni ey nazlı hilal!\n",
        "Kahraman ırkıma bir gül! Ne bu şiddet, bu celal?\n",
        "Sana olmaz dökülen kanlarımız sonra helal...\n",
        "Hakkıdır, hakk'a tapan, milletimin istiklal!\n",
        "\n",
        "Ben ezelden beridir hür yaşadım, hür yaşarım.\n",
        "Hangi çılgın bana zincir vuracakmış? Şaşarım!\n",
        "Kükremiş sel gibiyim, bendimi çiğner, aşarım.\n",
        "Yırtarım dağları, enginlere sığmam, taşarım.\n",
        "\n",
        "Garbın afakını sarmışsa çelik zırhlı duvar,\n",
        "Benim iman dolu göğsüm gibi serhaddim var.\n",
        "Ulusun, korkma! Nasıl böyle bir imanı boğar,\n",
        "'Medeniyet!' dediğin tek dişi kalmış canavar?\n",
        "\n",
        "Arkadaş! Yurduma alçakları uğratma, sakın.\n",
        "Siper et gövdeni, dursun bu hayasızca akın.\n",
        "Doğacaktır sana va'dettigi günler hakk'ın...\n",
        "Kim bilir, belki yarın, belki yarından da yakın.\n",
        "\n",
        "Bastığın yerleri 'toprak!' diyerek geçme, tanı:\n",
        "Düşün altında binlerce kefensiz yatanı.\n",
        "Sen şehit oğlusun, incitme, yazıktır, atanı:\n",
        "Verme, dünyaları alsan da, bu cennet vatanı.\n",
        "\n",
        "Kim bu cennet vatanın uğruna olmaz ki feda?\n",
        "Şuheda fışkıracak toprağı sıksan, şuheda!\n",
        "Canı, cananı, bütün varımı alsın da hüda,\n",
        "Etmesin tek vatanımdan beni dünyada cüda.\n",
        "\n",
        "Ruhumun senden, ilahi, şudur ancak emeli:\n",
        "Değmesin mabedimin göğsüne namahrem eli.\n",
        "Bu ezanlar-ki şahadetleri dinin temeli,\n",
        "Ebedi yurdumun üstünde benim inlemeli.\n",
        "\n",
        "O zaman vecd ile bin secde eder -varsa- taşım,\n",
        "Her cerihamdan, ilahi, boşanıp kanlı yaşım,\n",
        "Fışkırır ruh-i mücerred gibi yerden na'şım;\n",
        "O zaman yükselerek arsa değer belki başım.\n",
        "\n",
        "Dalgalan sen de şafaklar gibi ey şanlı hilal!\n",
        "Olsun artık dökülen kanlarımın hepsi helal.\n",
        "Ebediyen sana yok, ırkıma yok izmihlal:\n",
        "Hakkıdır, hür yaşamış, bayrağımın hürriyet;\n",
        "Hakkıdır, hakk'a tapan, milletimin istiklal!\"\"\"\n",
        "\n",
        "\n",
        "\n",
        "marchList = istiklalMarch.split(\"\\n\\n\")\n",
        "print(marchList)\n",
        "marchLenght = len(marchList)\n",
        "marchDict = { i+1 : marchList[i] for i in range(0, marchLenght)}\n",
        "print(marchDict)\n",
        "\n",
        "def getStanza(numberStanza):\n",
        "  if numberStanza in marchDict:\n",
        "    print(marchDict.get(numberStanza))\n",
        "  else:\n",
        "    print(\"There's no such stanza.\")\n",
        "    \n",
        "while True:\n",
        "  stanzaInput = input(\"Enter the number of stanza of İstiklal Marşı you want to see (Press 'q' to exit.): \")\n",
        "  if stanzaInput == 'q':\n",
        "    print(\"Shutting down...\")\n",
        "    break\n",
        "  try:\n",
        "    getStanza(int(stanzaInput))\n",
        "  except ValueError:\n",
        "    print(\"Please enter a number!\")\n",
        "    \n",
        "    \n",
        "  \n",
        "\n"
      ],
      "execution_count": 0,
      "outputs": []
    },
    {
      "cell_type": "code",
      "metadata": {
        "id": "9oxHPpxIp1hc",
        "colab_type": "code",
        "colab": {}
      },
      "source": [
        ""
      ],
      "execution_count": 0,
      "outputs": []
    }
  ]
}